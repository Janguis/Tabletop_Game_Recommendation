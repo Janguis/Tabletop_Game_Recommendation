{
 "cells": [
  {
   "cell_type": "markdown",
   "id": "5694b08c-6b77-4d65-982f-85f96c1ef0a5",
   "metadata": {},
   "source": [
    "## Tabletop Game Recommendation"
   ]
  },
  {
   "cell_type": "markdown",
   "id": "f18216e7-5126-4a49-84d8-1e256004d210",
   "metadata": {
    "tags": []
   },
   "source": [
    "### Imports"
   ]
  },
  {
   "cell_type": "code",
   "execution_count": 1,
   "id": "d38c5480-8be1-486d-b83d-c302a166024c",
   "metadata": {
    "tags": []
   },
   "outputs": [],
   "source": [
    "import pandas as pd\n",
    "\n",
    "pd.set_option('display.max_columns', None)\n",
    "pd.set_option('display.max_colwidth', None)\n",
    "pd.set_option('display.max_rows', 100)\n",
    "\n",
    "from IPython.display import Image, display, Markdown\n",
    "\n",
    "from sklearn.feature_extraction.text import CountVectorizer\n",
    "from sklearn.metrics.pairwise import cosine_similarity\n"
   ]
  },
  {
   "cell_type": "markdown",
   "id": "5f7e6402-aecb-4a4b-858e-edd2d43ce81d",
   "metadata": {
    "tags": []
   },
   "source": [
    "### Functions"
   ]
  },
  {
   "cell_type": "code",
   "execution_count": 25,
   "id": "e17d9a34-9e3c-469d-b637-3dcaa9d7dfb6",
   "metadata": {},
   "outputs": [],
   "source": [
    "# Function to show the dimensions, column zero counts, column datatypes, column null counts of the input dataframe\n",
    "def check_df(df):\n",
    "    # Display the dimensions of the DataFrame\n",
    "    display(Markdown(\"#### DataFrame dimensions\"))\n",
    "    display(df.shape)\n",
    "\n",
    "    # Add a new line\n",
    "    display(Markdown(\"<br>\"))\n",
    "\n",
    "    # Display data types of all columns\n",
    "    display(Markdown(\"#### Data Types, zeros and nulls\"))\n",
    "    display(pd.DataFrame({\n",
    "        \"Data type\": df.dtypes,\n",
    "        \"Zero counts\": (df == 0).sum(),\n",
    "        \"Zero count %\": (((df == 0).sum()/df.count())* 100).round(2),\n",
    "        \"Null counts\": df.isnull().sum(),\n",
    "        \"Null count %\": ((df.isnull().sum())/(df.count()+df.isnull().sum())* 100).round(2)\n",
    "    }))\n",
    "\n",
    "# Function which asks the user if they want to select specific game characteristics\n",
    "def ask_for_preference():\n",
    "    response = input(\"Do you have any preferences for game characteristics? (Yes/No): \")\n",
    "    \n",
    "    if response.strip().lower() == 'yes':\n",
    "        print(f\"The current number of games for comparison is {len(filtered_final_df)-1}:\",end=\"\\n\")\n",
    "        return True\n",
    "        \n",
    "    elif response.strip().lower() == 'no':\n",
    "        print(\"Ok, no preferences will be used.\", end=\"\\n\")\n",
    "        return False\n",
    "        \n",
    "    else:\n",
    "        print(\"Invalid response. Please enter 'Yes' or 'No'.\", end=\"\\n\")\n",
    "        return ask_for_preference()\n",
    "\n",
    "# Function to display possible games based on user input\n",
    "def suggest_games(game_list):\n",
    "    while True:  # Repeat until valid input is received\n",
    "        user_input = input(\"Type part of a game name you are looking for: \")\n",
    "        suggestions = [game for game in game_list if user_input.lower() in game.lower()]\n",
    "        \n",
    "        if suggestions:\n",
    "            print(f\"Suggestions based on your input '{user_input}':\")\n",
    "            for game in suggestions:\n",
    "                print(f\"- {game}\")\n",
    "            break  # Exit the loop if suggestions are found\n",
    "        else:\n",
    "            print(f\"No games found for '{user_input}'. Please try again.\", end=\"\\n\")\n",
    "\n",
    "def ask_for_average_rating():\n",
    "    while True:\n",
    "        try:\n",
    "            average_rating = float(input(\"What average user rating would you like the game to have at least (between 7.0 and 10.0): \"))\n",
    "            \n",
    "            if 7.0 <= average_rating <= 10.0:\n",
    "                return average_rating\n",
    "            else:\n",
    "                print(\"Invalid range. Please ensure the rating is a float value between 7.0 and 10.0.\", end=\"\\n\")\n",
    "        except ValueError:\n",
    "            print(\"Invalid input. Please enter a valid float value between 7.0 and 10.0.\", end=\"\\n\")\n",
    "\n",
    "def ask_for_complexity_rating():\n",
    "    while True:\n",
    "        try:\n",
    "            complexity_rating_low_lim = float(input(\"What lower limit of complexity would you be happy with? (between 0.0 and 5.0): \"))\n",
    "            complexity_rating_up_lim = float(input(\"What upper limit of complexity would you be happy with? (between 0.0 and 5.0): \"))\n",
    "            \n",
    "            if 0.0 <= complexity_rating_low_lim <= 5.0 and 0.0 <= complexity_rating_up_lim <= 5.0:\n",
    "                return complexity_rating_low_lim, complexity_rating_up_lim\n",
    "            else:\n",
    "                print(\"Invalid range. Please ensure the rating is a float value between 0.0 and 5.0.\", end=\"\\n\")\n",
    "        except ValueError:\n",
    "            print(\"Invalid input. Please enter a valid float value between 0.0 and 5.0.\", end=\"\\n\")\n",
    "\n",
    "def ask_for_min_player_num():\n",
    "    while True:\n",
    "        try:\n",
    "            min_player_num = int(input(\"What minimum player number would you like the game to have (between 1 and 100): \"))\n",
    "            \n",
    "            if 1 <= min_player_num <= 100:\n",
    "                return min_player_num\n",
    "            else:\n",
    "                print(\"Invalid range. Please ensure the rating is an integer value between 1 and 100.\", end=\"\\n\")\n",
    "        except ValueError:\n",
    "            print(\"Invalid input. Please enter a valid integer value between 1 and 100.\", end=\"\\n\")\n",
    "\n",
    "def ask_for_max_player_num():\n",
    "    while True:\n",
    "        try:\n",
    "            max_player_num = int(input(\"What maximum player number would you like the game to have (between 1 and 100): \"))\n",
    "            \n",
    "            if 1 <= max_player_num <= 100:\n",
    "                return max_player_num\n",
    "            else:\n",
    "                print(\"Invalid range. Please ensure the rating is an integer value between 1 and 100.\", end=\"\\n\")\n",
    "        except ValueError:\n",
    "            print(\"Invalid input. Please enter a valid integer value between 1 and 100.\", end=\"\\n\")\n",
    "\n",
    "def ask_for_exp_playtime():\n",
    "    while True:\n",
    "        try:\n",
    "            exp_playtime = int(input(\"What expected playtime would you like the game to have (between 3 and 12000 minutes): \"))\n",
    "            \n",
    "            if 1 <= exp_playtime <= 12000:\n",
    "                return exp_playtime\n",
    "            else:\n",
    "                print(\"Invalid range. Please ensure the rating is an integer value between 3 and 12000 minutes.\", end=\"\\n\")\n",
    "        except ValueError:\n",
    "            print(\"Invalid input. Please enter a valid integer value between 3 and 12000 minutes.\", end=\"\\n\")\n",
    "\n",
    "def ask_for_min_age():\n",
    "    while True:\n",
    "        try:\n",
    "            min_age = int(input(\"What minimum player age would you like the game to have (between 2 and 21 years old): \"))\n",
    "            \n",
    "            if 2 <= min_age <= 21:\n",
    "                return min_age\n",
    "            else:\n",
    "                print(\"Invalid range. Please ensure the rating is an integer value between 2 and 21 years old.\", end=\"\\n\")\n",
    "        except ValueError:\n",
    "            print(\"Invalid input. Please enter a valid integer value between 2 and 21 years old.\", end=\"\\n\")\n",
    "\n",
    "def main(final_df, game_list): \n",
    "    \n",
    "    preference_req = ask_for_preference()\n",
    "    \n",
    "    suggest_games(game_list)\n",
    "    while True:  # Loop until a valid game is found\n",
    "        game_rec = input(\"Type in the exact game name you found (or any name): \")\n",
    "    \n",
    "        # Check if the user input matches any game in the DataFrame\n",
    "        game_rec_data = final_df.loc[final_df['name'] == game_rec]\n",
    "        \n",
    "        if not game_rec_data.empty:  # If game data is found\n",
    "            break  # Exit the loop if the game is found\n",
    "        else:  # If game data is not found\n",
    "            print(f\"Game '{game_rec}' not found in the dataset. Please try again.\", end=\"\\n\")  \n",
    "            \n",
    "    if preference_req:\n",
    "        # Drop the game from final_df\n",
    "        filtered_final_df = final_df.drop(final_df.loc[final_df['name'] == game_rec].index)\n",
    "\n",
    "        #'Define the values for each prefered range of characteristics & then use them to filter final_df\n",
    "        average_rating = ask_for_average_rating()\n",
    "        filtered_final_df = filtered_final_df.loc[filtered_final_df['average'] >= average_rating]\n",
    "        print(f\"The current number of games for comparison is {len(filtered_final_df)}:\",end=\"\\n\")\n",
    "        \n",
    "        complexity_rating_low_lim , complexity_rating_up_lim = ask_for_complexity_rating()\n",
    "        filtered_final_df = filtered_final_df.loc[filtered_final_df['average complexity'] >= complexity_rating_low_lim]\n",
    "        filtered_final_df = filtered_final_df.loc[filtered_final_df['average complexity'] <= complexity_rating_up_lim]\n",
    "        print(f\"The current number of games for comparison is {len(filtered_final_df)}:\",end=\"\\n\")\n",
    "        \n",
    "        min_player_num = ask_for_min_player_num()\n",
    "        filtered_final_df = filtered_final_df.loc[filtered_final_df['min player number'] >= min_player_num]\n",
    "        print(f\"The current number of games for comparison is {len(filtered_final_df)}:\",end=\"\\n\")\n",
    "        \n",
    "        max_player_num = ask_for_max_player_num()\n",
    "        filtered_final_df = filtered_final_df.loc[filtered_final_df['max player number'] <= max_player_num]\n",
    "        print(f\"The current number of games for comparison is {len(filtered_final_df)}:\",end=\"\\n\")\n",
    "        \n",
    "        exp_playtime = ask_for_exp_playtime()\n",
    "        filtered_final_df = filtered_final_df.loc[filtered_final_df['expected play time'] >= exp_playtime]\n",
    "        print(f\"The current number of games for comparison is {len(filtered_final_df)}:\",end=\"\\n\")\n",
    "        \n",
    "        min_age = ask_for_min_age()\n",
    "        filtered_final_df = filtered_final_df.loc[filtered_final_df['minimum age limit'] >= min_age]\n",
    "        print(f\"The current number of games for comparison is {len(filtered_final_df)}:\",end=\"\\n\")\n",
    "        \n",
    "        # Add the recommended game back to the filtered DataFrame\n",
    "        filtered_final_df = pd.concat([filtered_final_df, game_rec_data])\n",
    "\n",
    "    else:\n",
    "        filtered_final_df = final_df\n",
    "        print(f\"The current number of games being compared is {len(filtered_final_df)-1}:\",end=\"\\n\")\n",
    "        \n",
    "    return filtered_final_df, game_rec\n"
   ]
  },
  {
   "cell_type": "markdown",
   "id": "cdfc4953-db0e-49e6-acf1-dfa27b6fd362",
   "metadata": {},
   "source": [
    "### Creating final dataframe"
   ]
  },
  {
   "cell_type": "code",
   "execution_count": 173,
   "id": "c57de34c-e377-4698-b009-6b450a6dc14e",
   "metadata": {},
   "outputs": [],
   "source": [
    "# Creating final_df dataframe from the previously feature engineered dataf\n",
    "final_df = pd.read_csv('Games_fe.csv')"
   ]
  },
  {
   "cell_type": "code",
   "execution_count": 107,
   "id": "68eeb6db-e14d-4b54-8108-23a1575916dc",
   "metadata": {
    "collapsed": true,
    "jupyter": {
     "outputs_hidden": true
    }
   },
   "outputs": [
    {
     "data": {
      "text/markdown": [
       "#### DataFrame dimensions"
      ],
      "text/plain": [
       "<IPython.core.display.Markdown object>"
      ]
     },
     "metadata": {},
     "output_type": "display_data"
    },
    {
     "data": {
      "text/plain": [
       "(4831, 20)"
      ]
     },
     "metadata": {},
     "output_type": "display_data"
    },
    {
     "data": {
      "text/markdown": [
       "<br>"
      ],
      "text/plain": [
       "<IPython.core.display.Markdown object>"
      ]
     },
     "metadata": {},
     "output_type": "display_data"
    },
    {
     "data": {
      "text/markdown": [
       "#### Data Types, zeros and nulls"
      ],
      "text/plain": [
       "<IPython.core.display.Markdown object>"
      ]
     },
     "metadata": {},
     "output_type": "display_data"
    },
    {
     "data": {
      "text/html": [
       "<div>\n",
       "<style scoped>\n",
       "    .dataframe tbody tr th:only-of-type {\n",
       "        vertical-align: middle;\n",
       "    }\n",
       "\n",
       "    .dataframe tbody tr th {\n",
       "        vertical-align: top;\n",
       "    }\n",
       "\n",
       "    .dataframe thead th {\n",
       "        text-align: right;\n",
       "    }\n",
       "</style>\n",
       "<table border=\"1\" class=\"dataframe\">\n",
       "  <thead>\n",
       "    <tr style=\"text-align: right;\">\n",
       "      <th></th>\n",
       "      <th>Data type</th>\n",
       "      <th>Zero counts</th>\n",
       "      <th>Zero count %</th>\n",
       "      <th>Null counts</th>\n",
       "      <th>Null count %</th>\n",
       "    </tr>\n",
       "  </thead>\n",
       "  <tbody>\n",
       "    <tr>\n",
       "      <th>id</th>\n",
       "      <td>int64</td>\n",
       "      <td>0</td>\n",
       "      <td>0.00</td>\n",
       "      <td>0</td>\n",
       "      <td>0.0</td>\n",
       "    </tr>\n",
       "    <tr>\n",
       "      <th>name</th>\n",
       "      <td>object</td>\n",
       "      <td>0</td>\n",
       "      <td>0.00</td>\n",
       "      <td>0</td>\n",
       "      <td>0.0</td>\n",
       "    </tr>\n",
       "    <tr>\n",
       "      <th>average</th>\n",
       "      <td>float64</td>\n",
       "      <td>0</td>\n",
       "      <td>0.00</td>\n",
       "      <td>0</td>\n",
       "      <td>0.0</td>\n",
       "    </tr>\n",
       "    <tr>\n",
       "      <th>usersrated</th>\n",
       "      <td>int64</td>\n",
       "      <td>0</td>\n",
       "      <td>0.00</td>\n",
       "      <td>0</td>\n",
       "      <td>0.0</td>\n",
       "    </tr>\n",
       "    <tr>\n",
       "      <th>number of comments</th>\n",
       "      <td>int64</td>\n",
       "      <td>0</td>\n",
       "      <td>0.00</td>\n",
       "      <td>0</td>\n",
       "      <td>0.0</td>\n",
       "    </tr>\n",
       "    <tr>\n",
       "      <th>complexity votes</th>\n",
       "      <td>int64</td>\n",
       "      <td>4</td>\n",
       "      <td>0.08</td>\n",
       "      <td>0</td>\n",
       "      <td>0.0</td>\n",
       "    </tr>\n",
       "    <tr>\n",
       "      <th>average complexity</th>\n",
       "      <td>float64</td>\n",
       "      <td>0</td>\n",
       "      <td>0.00</td>\n",
       "      <td>0</td>\n",
       "      <td>0.0</td>\n",
       "    </tr>\n",
       "    <tr>\n",
       "      <th>year published</th>\n",
       "      <td>int64</td>\n",
       "      <td>5</td>\n",
       "      <td>0.10</td>\n",
       "      <td>0</td>\n",
       "      <td>0.0</td>\n",
       "    </tr>\n",
       "    <tr>\n",
       "      <th>min player number</th>\n",
       "      <td>int64</td>\n",
       "      <td>0</td>\n",
       "      <td>0.00</td>\n",
       "      <td>0</td>\n",
       "      <td>0.0</td>\n",
       "    </tr>\n",
       "    <tr>\n",
       "      <th>max player number</th>\n",
       "      <td>int64</td>\n",
       "      <td>0</td>\n",
       "      <td>0.00</td>\n",
       "      <td>0</td>\n",
       "      <td>0.0</td>\n",
       "    </tr>\n",
       "    <tr>\n",
       "      <th>min play time</th>\n",
       "      <td>int64</td>\n",
       "      <td>0</td>\n",
       "      <td>0.00</td>\n",
       "      <td>0</td>\n",
       "      <td>0.0</td>\n",
       "    </tr>\n",
       "    <tr>\n",
       "      <th>max play time</th>\n",
       "      <td>int64</td>\n",
       "      <td>0</td>\n",
       "      <td>0.00</td>\n",
       "      <td>0</td>\n",
       "      <td>0.0</td>\n",
       "    </tr>\n",
       "    <tr>\n",
       "      <th>expected play time</th>\n",
       "      <td>int64</td>\n",
       "      <td>0</td>\n",
       "      <td>0.00</td>\n",
       "      <td>0</td>\n",
       "      <td>0.0</td>\n",
       "    </tr>\n",
       "    <tr>\n",
       "      <th>minimum age limit</th>\n",
       "      <td>int64</td>\n",
       "      <td>0</td>\n",
       "      <td>0.00</td>\n",
       "      <td>0</td>\n",
       "      <td>0.0</td>\n",
       "    </tr>\n",
       "    <tr>\n",
       "      <th>category</th>\n",
       "      <td>object</td>\n",
       "      <td>0</td>\n",
       "      <td>0.00</td>\n",
       "      <td>0</td>\n",
       "      <td>0.0</td>\n",
       "    </tr>\n",
       "    <tr>\n",
       "      <th>mechanism</th>\n",
       "      <td>object</td>\n",
       "      <td>0</td>\n",
       "      <td>0.00</td>\n",
       "      <td>0</td>\n",
       "      <td>0.0</td>\n",
       "    </tr>\n",
       "    <tr>\n",
       "      <th>game designer</th>\n",
       "      <td>object</td>\n",
       "      <td>0</td>\n",
       "      <td>0.00</td>\n",
       "      <td>0</td>\n",
       "      <td>0.0</td>\n",
       "    </tr>\n",
       "    <tr>\n",
       "      <th>publisher</th>\n",
       "      <td>object</td>\n",
       "      <td>0</td>\n",
       "      <td>0.00</td>\n",
       "      <td>0</td>\n",
       "      <td>0.0</td>\n",
       "    </tr>\n",
       "    <tr>\n",
       "      <th>url</th>\n",
       "      <td>object</td>\n",
       "      <td>0</td>\n",
       "      <td>0.00</td>\n",
       "      <td>0</td>\n",
       "      <td>0.0</td>\n",
       "    </tr>\n",
       "    <tr>\n",
       "      <th>bag of words</th>\n",
       "      <td>object</td>\n",
       "      <td>0</td>\n",
       "      <td>0.00</td>\n",
       "      <td>0</td>\n",
       "      <td>0.0</td>\n",
       "    </tr>\n",
       "  </tbody>\n",
       "</table>\n",
       "</div>"
      ],
      "text/plain": [
       "                   Data type  Zero counts  Zero count %  Null counts  \\\n",
       "id                     int64            0          0.00            0   \n",
       "name                  object            0          0.00            0   \n",
       "average              float64            0          0.00            0   \n",
       "usersrated             int64            0          0.00            0   \n",
       "number of comments     int64            0          0.00            0   \n",
       "complexity votes       int64            4          0.08            0   \n",
       "average complexity   float64            0          0.00            0   \n",
       "year published         int64            5          0.10            0   \n",
       "min player number      int64            0          0.00            0   \n",
       "max player number      int64            0          0.00            0   \n",
       "min play time          int64            0          0.00            0   \n",
       "max play time          int64            0          0.00            0   \n",
       "expected play time     int64            0          0.00            0   \n",
       "minimum age limit      int64            0          0.00            0   \n",
       "category              object            0          0.00            0   \n",
       "mechanism             object            0          0.00            0   \n",
       "game designer         object            0          0.00            0   \n",
       "publisher             object            0          0.00            0   \n",
       "url                   object            0          0.00            0   \n",
       "bag of words          object            0          0.00            0   \n",
       "\n",
       "                    Null count %  \n",
       "id                           0.0  \n",
       "name                         0.0  \n",
       "average                      0.0  \n",
       "usersrated                   0.0  \n",
       "number of comments           0.0  \n",
       "complexity votes             0.0  \n",
       "average complexity           0.0  \n",
       "year published               0.0  \n",
       "min player number            0.0  \n",
       "max player number            0.0  \n",
       "min play time                0.0  \n",
       "max play time                0.0  \n",
       "expected play time           0.0  \n",
       "minimum age limit            0.0  \n",
       "category                     0.0  \n",
       "mechanism                    0.0  \n",
       "game designer                0.0  \n",
       "publisher                    0.0  \n",
       "url                          0.0  \n",
       "bag of words                 0.0  "
      ]
     },
     "metadata": {},
     "output_type": "display_data"
    }
   ],
   "source": [
    "# Checking for any null or zero values which would affect recommendation, complexity votes and year published are not used and therefore ignored\n",
    "check_df(final_df)"
   ]
  },
  {
   "cell_type": "markdown",
   "id": "7f8e78c7-56f0-4055-9180-399f589d69bd",
   "metadata": {},
   "source": [
    "## Game Recommendation Generation"
   ]
  },
  {
   "cell_type": "code",
   "execution_count": 27,
   "id": "2df7bc47-35fb-475e-894f-3e04c4b13c47",
   "metadata": {},
   "outputs": [
    {
     "name": "stdin",
     "output_type": "stream",
     "text": [
      "Do you have any preferences for game characteristics? (Yes/No):  Yes\n"
     ]
    },
    {
     "name": "stdout",
     "output_type": "stream",
     "text": [
      "The current number of games for comparison is 2450:\n"
     ]
    },
    {
     "name": "stdin",
     "output_type": "stream",
     "text": [
      "Type part of a game name you are looking for:  chess\n"
     ]
    },
    {
     "name": "stdout",
     "output_type": "stream",
     "text": [
      "Suggestions based on your input 'chess':\n",
      "- Chess\n",
      "- Bughouse Chess\n",
      "- Chess960\n",
      "- Tank Chess\n"
     ]
    },
    {
     "name": "stdin",
     "output_type": "stream",
     "text": [
      "Type in the exact game name you found (or any name):  Chess\n",
      "What average user rating would you like the game to have at least (between 7.0 and 10.0):  7\n"
     ]
    },
    {
     "name": "stdout",
     "output_type": "stream",
     "text": [
      "The current number of games for comparison is 4830:\n"
     ]
    },
    {
     "name": "stdin",
     "output_type": "stream",
     "text": [
      "What lower limit of complexity would you be happy with? (between 0.0 and 5.0):  2\n",
      "What upper limit of complexity would you be happy with? (between 0.0 and 5.0):  4\n"
     ]
    },
    {
     "name": "stdout",
     "output_type": "stream",
     "text": [
      "The current number of games for comparison is 3675:\n"
     ]
    },
    {
     "name": "stdin",
     "output_type": "stream",
     "text": [
      "What minimum player number would you like the game to have (between 1 and 100):  2\n"
     ]
    },
    {
     "name": "stdout",
     "output_type": "stream",
     "text": [
      "The current number of games for comparison is 2148:\n"
     ]
    },
    {
     "name": "stdin",
     "output_type": "stream",
     "text": [
      "What maximum player number would you like the game to have (between 1 and 100):  4\n"
     ]
    },
    {
     "name": "stdout",
     "output_type": "stream",
     "text": [
      "The current number of games for comparison is 1413:\n"
     ]
    },
    {
     "name": "stdin",
     "output_type": "stream",
     "text": [
      "What expected playtime would you like the game to have (between 3 and 12000 minutes):  30\n"
     ]
    },
    {
     "name": "stdout",
     "output_type": "stream",
     "text": [
      "The current number of games for comparison is 1369:\n"
     ]
    },
    {
     "name": "stdin",
     "output_type": "stream",
     "text": [
      "What minimum player age would you like the game to have (between 2 and 21 years old):  2\n"
     ]
    },
    {
     "name": "stdout",
     "output_type": "stream",
     "text": [
      "The current number of games for comparison is 1369:\n"
     ]
    },
    {
     "data": {
      "text/html": [
       "<div>\n",
       "<style scoped>\n",
       "    .dataframe tbody tr th:only-of-type {\n",
       "        vertical-align: middle;\n",
       "    }\n",
       "\n",
       "    .dataframe tbody tr th {\n",
       "        vertical-align: top;\n",
       "    }\n",
       "\n",
       "    .dataframe thead th {\n",
       "        text-align: right;\n",
       "    }\n",
       "</style>\n",
       "<table border=\"1\" class=\"dataframe\">\n",
       "  <thead>\n",
       "    <tr style=\"text-align: right;\">\n",
       "      <th></th>\n",
       "      <th>Similarity score</th>\n",
       "    </tr>\n",
       "    <tr>\n",
       "      <th>name</th>\n",
       "      <th></th>\n",
       "    </tr>\n",
       "  </thead>\n",
       "  <tbody>\n",
       "    <tr>\n",
       "      <th>Mahjong</th>\n",
       "      <td>0.274202</td>\n",
       "    </tr>\n",
       "    <tr>\n",
       "      <th>Go</th>\n",
       "      <td>0.269951</td>\n",
       "    </tr>\n",
       "    <tr>\n",
       "      <th>Shogi</th>\n",
       "      <td>0.174522</td>\n",
       "    </tr>\n",
       "    <tr>\n",
       "      <th>Chess960</th>\n",
       "      <td>0.148159</td>\n",
       "    </tr>\n",
       "    <tr>\n",
       "      <th>Bridge</th>\n",
       "      <td>0.143736</td>\n",
       "    </tr>\n",
       "    <tr>\n",
       "      <th>Xiangqi</th>\n",
       "      <td>0.134413</td>\n",
       "    </tr>\n",
       "    <tr>\n",
       "      <th>Changgi</th>\n",
       "      <td>0.124939</td>\n",
       "    </tr>\n",
       "    <tr>\n",
       "      <th>Ordo</th>\n",
       "      <td>0.105593</td>\n",
       "    </tr>\n",
       "    <tr>\n",
       "      <th>Jass</th>\n",
       "      <td>0.098773</td>\n",
       "    </tr>\n",
       "    <tr>\n",
       "      <th>The Duke</th>\n",
       "      <td>0.093124</td>\n",
       "    </tr>\n",
       "  </tbody>\n",
       "</table>\n",
       "</div>"
      ],
      "text/plain": [
       "          Similarity score\n",
       "name                      \n",
       "Mahjong           0.274202\n",
       "Go                0.269951\n",
       "Shogi             0.174522\n",
       "Chess960          0.148159\n",
       "Bridge            0.143736\n",
       "Xiangqi           0.134413\n",
       "Changgi           0.124939\n",
       "Ordo              0.105593\n",
       "Jass              0.098773\n",
       "The Duke          0.093124"
      ]
     },
     "execution_count": 27,
     "metadata": {},
     "output_type": "execute_result"
    }
   ],
   "source": [
    "# Reloading final_df to refresh dataset for filtering\n",
    "final_df = pd.read_csv('Games_fe.csv')\n",
    "game_list = final_df['name'].tolist()\n",
    "\n",
    "if __name__ == \"__main__\":\n",
    "    filtered_final_df, game_rec = main(final_df, game_list)\n",
    "\n",
    "    if len(filtered_final_df) <=1:\n",
    "        print(\"Based on your preferences there are no other games to recommend, please try different preferences\")\n",
    "        sys.exit()\n",
    "        \n",
    "    # Tokenize the bag of words based on whitespace separation\n",
    "    vectorizer = CountVectorizer(token_pattern=r'[^ ]+')\n",
    "\n",
    "    # Model learns the vocabulary from the text data ('bag of words'), and transforms the text data into a matrix of token counts\n",
    "    vectorized = vectorizer.fit_transform(filtered_final_df['bag of words'])\n",
    "\n",
    "    # Cosine similairty calculation, based on matrix of token counts\n",
    "    similarities = cosine_similarity(vectorized)\n",
    "    \n",
    "    # score_df is used to contain the similarity matrix between all the games\n",
    "    score_df = pd.DataFrame(similarities, columns=filtered_final_df['name'], index=filtered_final_df['name'])\n",
    "\n",
    "    # Identifying the most similar games to the input game, based on the similarity matrix\n",
    "    input_game = game_rec\n",
    "\n",
    "    # Creating a dataframe called 'recommendations' which is ordered based on most similar to input game\n",
    "    recommendations = pd.DataFrame(score_df.nlargest(11,input_game)[input_game])\n",
    "\n",
    "    # Sort the DataFrame by similarity score in descending order\n",
    "    recommendations.sort_values(by=[input_game],ascending = False)\n",
    "    \n",
    "    # Exclude the first row and select rows 1 to 11 & rename the 2nd column to 'Similarity score'\n",
    "    recommendations = recommendations.rename(columns={input_game: 'Similarity score'}).iloc[1:12]\n",
    "\n",
    "# Display the recommendations\n",
    "recommendations"
   ]
  }
 ],
 "metadata": {
  "kernelspec": {
   "display_name": "Python 3 (ipykernel)",
   "language": "python",
   "name": "python3"
  },
  "language_info": {
   "codemirror_mode": {
    "name": "ipython",
    "version": 3
   },
   "file_extension": ".py",
   "mimetype": "text/x-python",
   "name": "python",
   "nbconvert_exporter": "python",
   "pygments_lexer": "ipython3",
   "version": "3.11.7"
  }
 },
 "nbformat": 4,
 "nbformat_minor": 5
}
