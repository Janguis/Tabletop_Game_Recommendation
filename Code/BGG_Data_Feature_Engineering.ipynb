{
 "cells": [
  {
   "cell_type": "markdown",
   "id": "5dff5068-6ac5-4edf-afe5-acc81fc6ccf7",
   "metadata": {
    "tags": []
   },
   "source": [
    "## BGG Data Feature Engineering"
   ]
  },
  {
   "cell_type": "markdown",
   "id": "f18216e7-5126-4a49-84d8-1e256004d210",
   "metadata": {
    "tags": []
   },
   "source": [
    "### Imports"
   ]
  },
  {
   "cell_type": "code",
   "execution_count": 12,
   "id": "d38c5480-8be1-486d-b83d-c302a166024c",
   "metadata": {
    "tags": []
   },
   "outputs": [],
   "source": [
    "import pandas as pd\n",
    "import re\n",
    "\n",
    "pd.set_option('display.max_columns', None)\n",
    "pd.set_option('display.max_colwidth', None)\n",
    "pd.set_option('display.max_rows', 100)\n",
    "\n",
    "from IPython.display import display, Markdown"
   ]
  },
  {
   "cell_type": "markdown",
   "id": "5f7e6402-aecb-4a4b-858e-edd2d43ce81d",
   "metadata": {
    "tags": []
   },
   "source": [
    "### Functions"
   ]
  },
  {
   "cell_type": "code",
   "execution_count": 14,
   "id": "21d2446e-60f1-4334-90d8-c1c42487780e",
   "metadata": {
    "tags": []
   },
   "outputs": [],
   "source": [
    "# Function that converts a string to lowercase, and replaces whitespace with underscores, unless the whitespace is adjacent to ' // '\n",
    "def format_text(words):\n",
    "    # converts the string to lowercase\n",
    "    result = str(words).lower()\n",
    "\n",
    "    # replaces whitespace with underscores, unless the whitespace is adjacent to ' // '\n",
    "    return(re.sub(r'(?<!//)\\s(?!//)', '_',result))\n",
    "\n",
    "# Function to replace '//' with ''\n",
    "def remove_double_slashes(text):\n",
    "    return text.replace(' // ', ' ')"
   ]
  },
  {
   "cell_type": "markdown",
   "id": "40d168f9-4ef7-4330-953c-5f9e7d73bfe6",
   "metadata": {},
   "source": [
    "### Creating dataframe copy for feature engineering"
   ]
  },
  {
   "cell_type": "code",
   "execution_count": 16,
   "id": "f747987a-4423-4493-9d53-75720d905bf3",
   "metadata": {},
   "outputs": [],
   "source": [
    "# Creating a copy of games_clean.csv as fe_df to safeguard against data loss from any mistakes whilst feature engineering the data\n",
    "fe_df = pd.read_csv('games_clean.csv')"
   ]
  },
  {
   "cell_type": "markdown",
   "id": "ee40de45-0593-4325-8591-47d6adc96f17",
   "metadata": {},
   "source": [
    "### Formating the dataframe"
   ]
  },
  {
   "cell_type": "code",
   "execution_count": 18,
   "id": "89d031dc-f020-405b-a4c6-b0a0283f000a",
   "metadata": {
    "tags": []
   },
   "outputs": [],
   "source": [
    "# Formatting all text fields to ensure that labels with multiple words are distinguishable and easier to separate from other labels by replacing whitespace with an underscore, expect adjacent to the '//' separator\n",
    "fe_df['category'] = fe_df['category'].apply(format_text)\n",
    "fe_df['mechanism'] = fe_df['mechanism'].apply(format_text)\n",
    "fe_df['game designer'] = fe_df['game designer'].apply(format_text)\n",
    "fe_df['publisher'] = fe_df['publisher'].apply(format_text)"
   ]
  },
  {
   "cell_type": "code",
   "execution_count": 19,
   "id": "978633f1-7cb0-4dd2-b1d3-578fd65f6822",
   "metadata": {
    "collapsed": true,
    "jupyter": {
     "outputs_hidden": true,
     "source_hidden": true
    }
   },
   "outputs": [
    {
     "data": {
      "text/html": [
       "<div>\n",
       "<style scoped>\n",
       "    .dataframe tbody tr th:only-of-type {\n",
       "        vertical-align: middle;\n",
       "    }\n",
       "\n",
       "    .dataframe tbody tr th {\n",
       "        vertical-align: top;\n",
       "    }\n",
       "\n",
       "    .dataframe thead th {\n",
       "        text-align: right;\n",
       "    }\n",
       "</style>\n",
       "<table border=\"1\" class=\"dataframe\">\n",
       "  <thead>\n",
       "    <tr style=\"text-align: right;\">\n",
       "      <th></th>\n",
       "      <th>id</th>\n",
       "      <th>name</th>\n",
       "      <th>category</th>\n",
       "      <th>mechanism</th>\n",
       "      <th>game designer</th>\n",
       "      <th>publisher</th>\n",
       "    </tr>\n",
       "  </thead>\n",
       "  <tbody>\n",
       "    <tr>\n",
       "      <th>0</th>\n",
       "      <td>224517</td>\n",
       "      <td>Brass: Birmingham</td>\n",
       "      <td>economic // post-napoleonic // trains // age_of_reason // transportation // industry_/_manufacturing</td>\n",
       "      <td>loans // network_and_route_building // market // hand_management // tech_trees_/_tech_tracks // turn_order:_stat-based // variable_set-up // tags // income</td>\n",
       "      <td>matt_tolman // gavan_brown // martin_wallace</td>\n",
       "      <td>funforge // boardm_factory // lanlalen // gém_klub_kft. // cmon_global_limited // 盒拍工作室_hepa_studio // rebel_sp._z_o.o. // ghenos_games // lord_of_boards // arclight_games // conclave_editora // dexker_games // maldito_games // tlama_games // phalanx // giant_roc // board_game_rookie // white_goblin_games // roxley // crowd_games</td>\n",
       "    </tr>\n",
       "    <tr>\n",
       "      <th>1</th>\n",
       "      <td>161936</td>\n",
       "      <td>Pandemic Legacy: Season 1</td>\n",
       "      <td>medical // environmental</td>\n",
       "      <td>variable_player_powers // cooperative_game // hand_management // action_points // scenario_/_mission_/_campaign_game // legacy_game // point_to_point_movement // set_collection // trading // tags</td>\n",
       "      <td>matt_leacock // rob_daviau</td>\n",
       "      <td>z-man_games // lifestyle_boardgames_ltd // hobby_japan // devir // korea_boardgames // asterion_press // gém_klub_kft. // jolly_thinkers // ігромаг // mindok // filosofia_éditions // lacerta</td>\n",
       "    </tr>\n",
       "    <tr>\n",
       "      <th>2</th>\n",
       "      <td>174430</td>\n",
       "      <td>Gloomhaven</td>\n",
       "      <td>fighting // miniatures // adventure // fantasy // exploration</td>\n",
       "      <td>communication_limits // variable_player_powers // cooperative_game // simultaneous_action_selection // critical_hits_and_failures // legacy_game // tags // campaign_/_battle_card_driven // deck_construction // solo_/_solitaire_game // action_queue // narrative_choice_/_paragraph // card_play_conflict_resolution // line_of_sight // action_retrieval // hexagon_grid // role_playing // hand_management // scenario_/_mission_/_campaign_game // multi-use_cards // modular_board // grid_movement // once-per-game_abilities</td>\n",
       "      <td>isaac_childres</td>\n",
       "      <td>games_warehouse // mybg_co.,_ltd. // arclight_games // albi_polska // feuerland_spiele // korea_boardgames // galápagos_jogos // gém_klub_kft. // hobby_world // cephalofair_games // albi</td>\n",
       "    </tr>\n",
       "    <tr>\n",
       "      <th>3</th>\n",
       "      <td>342942</td>\n",
       "      <td>Ark Nova</td>\n",
       "      <td>economic // animals // environmental</td>\n",
       "      <td>open_drafting // variable_player_powers // variable_set-up // hand_management // increase_value_of_unchosen_resources // grid_coverage // end_game_bonuses // solo_/_solitaire_game // race // hexagon_grid // tile_placement // set_collection // action_queue // tags // income</td>\n",
       "      <td>mathias_wigge</td>\n",
       "      <td>capstone_games // テンデイズゲームズ(tendaysgames) // gém_klub_kft. // mindok // grok_games // cmon_global_limited // mipl // game_harbor // korea_boardgames // tower_tactic_games // cranio_creations // ludofy_creative // maldito_games // super_meeple // white_goblin_games // feuerland_spiele // portal_games // regatul_jocurilor // igames // lautapelit.fi</td>\n",
       "    </tr>\n",
       "    <tr>\n",
       "      <th>4</th>\n",
       "      <td>233078</td>\n",
       "      <td>Twilight Imperium: Fourth Edition</td>\n",
       "      <td>economic // space_exploration // political // wargame // negotiation // civilization // exploration // science_fiction</td>\n",
       "      <td>movement_points // variable_player_powers // action_drafting // follow // increase_value_of_unchosen_resources // tech_trees_/_tech_tracks // race // voting // hexagon_grid // modular_board // area-impulse // variable_phase_order // king_of_the_hill // grid_movement // dice_rolling // trading // variable_set-up</td>\n",
       "      <td>christian_t._petersen // corey_konieczka // dane_beltrami</td>\n",
       "      <td>sternenschimmermeer // galakta // arclight_games // geekach_games // edge_entertainment // asterion_press // galápagos_jogos // playfun_games // hobby_world // adc_blackfire_entertainment // fantasy_flight_games</td>\n",
       "    </tr>\n",
       "    <tr>\n",
       "      <th>...</th>\n",
       "      <td>...</td>\n",
       "      <td>...</td>\n",
       "      <td>...</td>\n",
       "      <td>...</td>\n",
       "      <td>...</td>\n",
       "      <td>...</td>\n",
       "    </tr>\n",
       "    <tr>\n",
       "      <th>4826</th>\n",
       "      <td>387144</td>\n",
       "      <td>R-ECO+</td>\n",
       "      <td>environmental // card_game // bluffing</td>\n",
       "      <td>open_drafting // hand_management</td>\n",
       "      <td>susumu_kawasaki</td>\n",
       "      <td>hobby_japan</td>\n",
       "    </tr>\n",
       "    <tr>\n",
       "      <th>4827</th>\n",
       "      <td>391288</td>\n",
       "      <td>Firefly: The Game – 10th Anniversary Collector's Edition</td>\n",
       "      <td>travel // space_exploration // adventure // movies_/_tv_/_radio_theme // science_fiction</td>\n",
       "      <td>variable_player_powers // pick-up_and_deliver // area_movement // solo_/_solitaire_game // take_that // dice_rolling // open_drafting // trading</td>\n",
       "      <td>joe_kepler // george_krubski // sean_sweigart // aaron_dill</td>\n",
       "      <td>gale_force_nine,_llc</td>\n",
       "    </tr>\n",
       "    <tr>\n",
       "      <th>4828</th>\n",
       "      <td>405752</td>\n",
       "      <td>Project L: Collector's Edition</td>\n",
       "      <td>abstract_strategy // video_game_theme // puzzle</td>\n",
       "      <td>open_drafting // action_points // pattern_building // tile_placement</td>\n",
       "      <td>michal_mikeš // adam_španěl // jan_soukal // filip_daňhel</td>\n",
       "      <td>boardcubator</td>\n",
       "    </tr>\n",
       "    <tr>\n",
       "      <th>4829</th>\n",
       "      <td>406767</td>\n",
       "      <td>Hegemony: Lead Your Class to Victory – Extended Edition</td>\n",
       "      <td>economic // educational // negotiation // political</td>\n",
       "      <td>variable_player_powers // hand_management // action/event // simulation // roles_with_asymmetric_information // voting // worker_placement,_different_worker_types</td>\n",
       "      <td>varnavas_timotheou // vangelis_bagiartakis</td>\n",
       "      <td>giant_roc // boardm_factory // fox_in_the_box // galápagos_jogos // bumble3ee_interactive // hegemonic_project_games // ігромаг // don't_panic_games // mindok</td>\n",
       "    </tr>\n",
       "    <tr>\n",
       "      <th>4830</th>\n",
       "      <td>409858</td>\n",
       "      <td>Maple Valley: Kickstarter Edition</td>\n",
       "      <td>animals</td>\n",
       "      <td>set_collection // hand_management // kill_steal</td>\n",
       "      <td>roberta_taylor</td>\n",
       "      <td>gen-x_games // matagot // kids_table_bg // lucrum_games</td>\n",
       "    </tr>\n",
       "  </tbody>\n",
       "</table>\n",
       "<p>4831 rows × 6 columns</p>\n",
       "</div>"
      ],
      "text/plain": [
       "          id                                                      name  \\\n",
       "0     224517                                         Brass: Birmingham   \n",
       "1     161936                                 Pandemic Legacy: Season 1   \n",
       "2     174430                                                Gloomhaven   \n",
       "3     342942                                                  Ark Nova   \n",
       "4     233078                         Twilight Imperium: Fourth Edition   \n",
       "...      ...                                                       ...   \n",
       "4826  387144                                                    R-ECO+   \n",
       "4827  391288  Firefly: The Game – 10th Anniversary Collector's Edition   \n",
       "4828  405752                            Project L: Collector's Edition   \n",
       "4829  406767   Hegemony: Lead Your Class to Victory – Extended Edition   \n",
       "4830  409858                         Maple Valley: Kickstarter Edition   \n",
       "\n",
       "                                                                                                                    category  \\\n",
       "0                       economic // post-napoleonic // trains // age_of_reason // transportation // industry_/_manufacturing   \n",
       "1                                                                                                   medical // environmental   \n",
       "2                                                              fighting // miniatures // adventure // fantasy // exploration   \n",
       "3                                                                                       economic // animals // environmental   \n",
       "4     economic // space_exploration // political // wargame // negotiation // civilization // exploration // science_fiction   \n",
       "...                                                                                                                      ...   \n",
       "4826                                                                                  environmental // card_game // bluffing   \n",
       "4827                                travel // space_exploration // adventure // movies_/_tv_/_radio_theme // science_fiction   \n",
       "4828                                                                         abstract_strategy // video_game_theme // puzzle   \n",
       "4829                                                                     economic // educational // negotiation // political   \n",
       "4830                                                                                                                 animals   \n",
       "\n",
       "                                                                                                                                                                                                                                                                                                                                                                                                                                                                                                                                   mechanism  \\\n",
       "0                                                                                                                                                                                                                                                                                                                                                                                loans // network_and_route_building // market // hand_management // tech_trees_/_tech_tracks // turn_order:_stat-based // variable_set-up // tags // income   \n",
       "1                                                                                                                                                                                                                                                                                                                                        variable_player_powers // cooperative_game // hand_management // action_points // scenario_/_mission_/_campaign_game // legacy_game // point_to_point_movement // set_collection // trading // tags   \n",
       "2     communication_limits // variable_player_powers // cooperative_game // simultaneous_action_selection // critical_hits_and_failures // legacy_game // tags // campaign_/_battle_card_driven // deck_construction // solo_/_solitaire_game // action_queue // narrative_choice_/_paragraph // card_play_conflict_resolution // line_of_sight // action_retrieval // hexagon_grid // role_playing // hand_management // scenario_/_mission_/_campaign_game // multi-use_cards // modular_board // grid_movement // once-per-game_abilities   \n",
       "3                                                                                                                                                                                                                                                          open_drafting // variable_player_powers // variable_set-up // hand_management // increase_value_of_unchosen_resources // grid_coverage // end_game_bonuses // solo_/_solitaire_game // race // hexagon_grid // tile_placement // set_collection // action_queue // tags // income   \n",
       "4                                                                                                                                                                                                                   movement_points // variable_player_powers // action_drafting // follow // increase_value_of_unchosen_resources // tech_trees_/_tech_tracks // race // voting // hexagon_grid // modular_board // area-impulse // variable_phase_order // king_of_the_hill // grid_movement // dice_rolling // trading // variable_set-up   \n",
       "...                                                                                                                                                                                                                                                                                                                                                                                                                                                                                                                                      ...   \n",
       "4826                                                                                                                                                                                                                                                                                                                                                                                                                                                                                                        open_drafting // hand_management   \n",
       "4827                                                                                                                                                                                                                                                                                                                                                                                        variable_player_powers // pick-up_and_deliver // area_movement // solo_/_solitaire_game // take_that // dice_rolling // open_drafting // trading   \n",
       "4828                                                                                                                                                                                                                                                                                                                                                                                                                                                                    open_drafting // action_points // pattern_building // tile_placement   \n",
       "4829                                                                                                                                                                                                                                                                                                                                                                      variable_player_powers // hand_management // action/event // simulation // roles_with_asymmetric_information // voting // worker_placement,_different_worker_types   \n",
       "4830                                                                                                                                                                                                                                                                                                                                                                                                                                                                                         set_collection // hand_management // kill_steal   \n",
       "\n",
       "                                                    game designer  \\\n",
       "0                    matt_tolman // gavan_brown // martin_wallace   \n",
       "1                                      matt_leacock // rob_daviau   \n",
       "2                                                  isaac_childres   \n",
       "3                                                   mathias_wigge   \n",
       "4       christian_t._petersen // corey_konieczka // dane_beltrami   \n",
       "...                                                           ...   \n",
       "4826                                              susumu_kawasaki   \n",
       "4827  joe_kepler // george_krubski // sean_sweigart // aaron_dill   \n",
       "4828    michal_mikeš // adam_španěl // jan_soukal // filip_daňhel   \n",
       "4829                   varnavas_timotheou // vangelis_bagiartakis   \n",
       "4830                                               roberta_taylor   \n",
       "\n",
       "                                                                                                                                                                                                                                                                                                                                                         publisher  \n",
       "0                      funforge // boardm_factory // lanlalen // gém_klub_kft. // cmon_global_limited // 盒拍工作室_hepa_studio // rebel_sp._z_o.o. // ghenos_games // lord_of_boards // arclight_games // conclave_editora // dexker_games // maldito_games // tlama_games // phalanx // giant_roc // board_game_rookie // white_goblin_games // roxley // crowd_games  \n",
       "1                                                                                                                                                                   z-man_games // lifestyle_boardgames_ltd // hobby_japan // devir // korea_boardgames // asterion_press // gém_klub_kft. // jolly_thinkers // ігромаг // mindok // filosofia_éditions // lacerta  \n",
       "2                                                                                                                                                                       games_warehouse // mybg_co.,_ltd. // arclight_games // albi_polska // feuerland_spiele // korea_boardgames // galápagos_jogos // gém_klub_kft. // hobby_world // cephalofair_games // albi  \n",
       "3     capstone_games // テンデイズゲームズ(tendaysgames) // gém_klub_kft. // mindok // grok_games // cmon_global_limited // mipl // game_harbor // korea_boardgames // tower_tactic_games // cranio_creations // ludofy_creative // maldito_games // super_meeple // white_goblin_games // feuerland_spiele // portal_games // regatul_jocurilor // igames // lautapelit.fi  \n",
       "4                                                                                                                                              sternenschimmermeer // galakta // arclight_games // geekach_games // edge_entertainment // asterion_press // galápagos_jogos // playfun_games // hobby_world // adc_blackfire_entertainment // fantasy_flight_games  \n",
       "...                                                                                                                                                                                                                                                                                                                                                            ...  \n",
       "4826                                                                                                                                                                                                                                                                                                                                                   hobby_japan  \n",
       "4827                                                                                                                                                                                                                                                                                                                                          gale_force_nine,_llc  \n",
       "4828                                                                                                                                                                                                                                                                                                                                                  boardcubator  \n",
       "4829                                                                                                                                                                                                giant_roc // boardm_factory // fox_in_the_box // galápagos_jogos // bumble3ee_interactive // hegemonic_project_games // ігромаг // don't_panic_games // mindok  \n",
       "4830                                                                                                                                                                                                                                                                                                       gen-x_games // matagot // kids_table_bg // lucrum_games  \n",
       "\n",
       "[4831 rows x 6 columns]"
      ]
     },
     "execution_count": 19,
     "metadata": {},
     "output_type": "execute_result"
    }
   ],
   "source": [
    "# Checking all text fields have been formatted as expected\n",
    "fe_df[['id','name','category','mechanism','game designer','publisher']]"
   ]
  },
  {
   "cell_type": "markdown",
   "id": "5f70164c-ebae-401b-a306-fd162b99147b",
   "metadata": {},
   "source": [
    "### Creating bag of words"
   ]
  },
  {
   "cell_type": "code",
   "execution_count": 21,
   "id": "f438a728-b1ca-47ae-a06f-ccf560004a80",
   "metadata": {
    "collapsed": true,
    "jupyter": {
     "outputs_hidden": true,
     "source_hidden": true
    },
    "tags": []
   },
   "outputs": [
    {
     "data": {
      "text/html": [
       "<div>\n",
       "<style scoped>\n",
       "    .dataframe tbody tr th:only-of-type {\n",
       "        vertical-align: middle;\n",
       "    }\n",
       "\n",
       "    .dataframe tbody tr th {\n",
       "        vertical-align: top;\n",
       "    }\n",
       "\n",
       "    .dataframe thead th {\n",
       "        text-align: right;\n",
       "    }\n",
       "</style>\n",
       "<table border=\"1\" class=\"dataframe\">\n",
       "  <thead>\n",
       "    <tr style=\"text-align: right;\">\n",
       "      <th></th>\n",
       "      <th>id</th>\n",
       "      <th>name</th>\n",
       "      <th>category</th>\n",
       "      <th>mechanism</th>\n",
       "      <th>game designer</th>\n",
       "      <th>publisher</th>\n",
       "      <th>bag of words</th>\n",
       "    </tr>\n",
       "  </thead>\n",
       "  <tbody>\n",
       "    <tr>\n",
       "      <th>0</th>\n",
       "      <td>224517</td>\n",
       "      <td>Brass: Birmingham</td>\n",
       "      <td>economic post-napoleonic trains age_of_reason transportation industry_/_manufacturing</td>\n",
       "      <td>loans network_and_route_building market hand_management tech_trees_/_tech_tracks turn_order:_stat-based variable_set-up tags income</td>\n",
       "      <td>matt_tolman gavan_brown martin_wallace</td>\n",
       "      <td>funforge boardm_factory lanlalen gém_klub_kft. cmon_global_limited 盒拍工作室_hepa_studio rebel_sp._z_o.o. ghenos_games lord_of_boards arclight_games conclave_editora dexker_games maldito_games tlama_games phalanx giant_roc board_game_rookie white_goblin_games roxley crowd_games</td>\n",
       "      <td>economic post-napoleonic trains age_of_reason transportation industry_/_manufacturing loans network_and_route_building market hand_management tech_trees_/_tech_tracks turn_order:_stat-based variable_set-up tags income matt_tolman gavan_brown martin_wallace funforge boardm_factory lanlalen gém_klub_kft. cmon_global_limited 盒拍工作室_hepa_studio rebel_sp._z_o.o. ghenos_games lord_of_boards arclight_games conclave_editora dexker_games maldito_games tlama_games phalanx giant_roc board_game_rookie white_goblin_games roxley crowd_games</td>\n",
       "    </tr>\n",
       "    <tr>\n",
       "      <th>1</th>\n",
       "      <td>161936</td>\n",
       "      <td>Pandemic Legacy: Season 1</td>\n",
       "      <td>medical environmental</td>\n",
       "      <td>variable_player_powers cooperative_game hand_management action_points scenario_/_mission_/_campaign_game legacy_game point_to_point_movement set_collection trading tags</td>\n",
       "      <td>matt_leacock rob_daviau</td>\n",
       "      <td>z-man_games lifestyle_boardgames_ltd hobby_japan devir korea_boardgames asterion_press gém_klub_kft. jolly_thinkers ігромаг mindok filosofia_éditions lacerta</td>\n",
       "      <td>medical environmental variable_player_powers cooperative_game hand_management action_points scenario_/_mission_/_campaign_game legacy_game point_to_point_movement set_collection trading tags matt_leacock rob_daviau z-man_games lifestyle_boardgames_ltd hobby_japan devir korea_boardgames asterion_press gém_klub_kft. jolly_thinkers ігромаг mindok filosofia_éditions lacerta</td>\n",
       "    </tr>\n",
       "    <tr>\n",
       "      <th>2</th>\n",
       "      <td>174430</td>\n",
       "      <td>Gloomhaven</td>\n",
       "      <td>fighting miniatures adventure fantasy exploration</td>\n",
       "      <td>communication_limits variable_player_powers cooperative_game simultaneous_action_selection critical_hits_and_failures legacy_game tags campaign_/_battle_card_driven deck_construction solo_/_solitaire_game action_queue narrative_choice_/_paragraph card_play_conflict_resolution line_of_sight action_retrieval hexagon_grid role_playing hand_management scenario_/_mission_/_campaign_game multi-use_cards modular_board grid_movement once-per-game_abilities</td>\n",
       "      <td>isaac_childres</td>\n",
       "      <td>games_warehouse mybg_co.,_ltd. arclight_games albi_polska feuerland_spiele korea_boardgames galápagos_jogos gém_klub_kft. hobby_world cephalofair_games albi</td>\n",
       "      <td>fighting miniatures adventure fantasy exploration communication_limits variable_player_powers cooperative_game simultaneous_action_selection critical_hits_and_failures legacy_game tags campaign_/_battle_card_driven deck_construction solo_/_solitaire_game action_queue narrative_choice_/_paragraph card_play_conflict_resolution line_of_sight action_retrieval hexagon_grid role_playing hand_management scenario_/_mission_/_campaign_game multi-use_cards modular_board grid_movement once-per-game_abilities isaac_childres games_warehouse mybg_co.,_ltd. arclight_games albi_polska feuerland_spiele korea_boardgames galápagos_jogos gém_klub_kft. hobby_world cephalofair_games albi</td>\n",
       "    </tr>\n",
       "    <tr>\n",
       "      <th>3</th>\n",
       "      <td>342942</td>\n",
       "      <td>Ark Nova</td>\n",
       "      <td>economic animals environmental</td>\n",
       "      <td>open_drafting variable_player_powers variable_set-up hand_management increase_value_of_unchosen_resources grid_coverage end_game_bonuses solo_/_solitaire_game race hexagon_grid tile_placement set_collection action_queue tags income</td>\n",
       "      <td>mathias_wigge</td>\n",
       "      <td>capstone_games テンデイズゲームズ(tendaysgames) gém_klub_kft. mindok grok_games cmon_global_limited mipl game_harbor korea_boardgames tower_tactic_games cranio_creations ludofy_creative maldito_games super_meeple white_goblin_games feuerland_spiele portal_games regatul_jocurilor igames lautapelit.fi</td>\n",
       "      <td>economic animals environmental open_drafting variable_player_powers variable_set-up hand_management increase_value_of_unchosen_resources grid_coverage end_game_bonuses solo_/_solitaire_game race hexagon_grid tile_placement set_collection action_queue tags income mathias_wigge capstone_games テンデイズゲームズ(tendaysgames) gém_klub_kft. mindok grok_games cmon_global_limited mipl game_harbor korea_boardgames tower_tactic_games cranio_creations ludofy_creative maldito_games super_meeple white_goblin_games feuerland_spiele portal_games regatul_jocurilor igames lautapelit.fi</td>\n",
       "    </tr>\n",
       "    <tr>\n",
       "      <th>4</th>\n",
       "      <td>233078</td>\n",
       "      <td>Twilight Imperium: Fourth Edition</td>\n",
       "      <td>economic space_exploration political wargame negotiation civilization exploration science_fiction</td>\n",
       "      <td>movement_points variable_player_powers action_drafting follow increase_value_of_unchosen_resources tech_trees_/_tech_tracks race voting hexagon_grid modular_board area-impulse variable_phase_order king_of_the_hill grid_movement dice_rolling trading variable_set-up</td>\n",
       "      <td>christian_t._petersen corey_konieczka dane_beltrami</td>\n",
       "      <td>sternenschimmermeer galakta arclight_games geekach_games edge_entertainment asterion_press galápagos_jogos playfun_games hobby_world adc_blackfire_entertainment fantasy_flight_games</td>\n",
       "      <td>economic space_exploration political wargame negotiation civilization exploration science_fiction movement_points variable_player_powers action_drafting follow increase_value_of_unchosen_resources tech_trees_/_tech_tracks race voting hexagon_grid modular_board area-impulse variable_phase_order king_of_the_hill grid_movement dice_rolling trading variable_set-up christian_t._petersen corey_konieczka dane_beltrami sternenschimmermeer galakta arclight_games geekach_games edge_entertainment asterion_press galápagos_jogos playfun_games hobby_world adc_blackfire_entertainment fantasy_flight_games</td>\n",
       "    </tr>\n",
       "  </tbody>\n",
       "</table>\n",
       "</div>"
      ],
      "text/plain": [
       "       id                               name  \\\n",
       "0  224517                  Brass: Birmingham   \n",
       "1  161936          Pandemic Legacy: Season 1   \n",
       "2  174430                         Gloomhaven   \n",
       "3  342942                           Ark Nova   \n",
       "4  233078  Twilight Imperium: Fourth Edition   \n",
       "\n",
       "                                                                                            category  \\\n",
       "0              economic post-napoleonic trains age_of_reason transportation industry_/_manufacturing   \n",
       "1                                                                              medical environmental   \n",
       "2                                                  fighting miniatures adventure fantasy exploration   \n",
       "3                                                                     economic animals environmental   \n",
       "4  economic space_exploration political wargame negotiation civilization exploration science_fiction   \n",
       "\n",
       "                                                                                                                                                                                                                                                                                                                                                                                                                                                              mechanism  \\\n",
       "0                                                                                                                                                                                                                                                                                                                                   loans network_and_route_building market hand_management tech_trees_/_tech_tracks turn_order:_stat-based variable_set-up tags income   \n",
       "1                                                                                                                                                                                                                                                                                              variable_player_powers cooperative_game hand_management action_points scenario_/_mission_/_campaign_game legacy_game point_to_point_movement set_collection trading tags   \n",
       "2  communication_limits variable_player_powers cooperative_game simultaneous_action_selection critical_hits_and_failures legacy_game tags campaign_/_battle_card_driven deck_construction solo_/_solitaire_game action_queue narrative_choice_/_paragraph card_play_conflict_resolution line_of_sight action_retrieval hexagon_grid role_playing hand_management scenario_/_mission_/_campaign_game multi-use_cards modular_board grid_movement once-per-game_abilities   \n",
       "3                                                                                                                                                                                                                               open_drafting variable_player_powers variable_set-up hand_management increase_value_of_unchosen_resources grid_coverage end_game_bonuses solo_/_solitaire_game race hexagon_grid tile_placement set_collection action_queue tags income   \n",
       "4                                                                                                                                                                                              movement_points variable_player_powers action_drafting follow increase_value_of_unchosen_resources tech_trees_/_tech_tracks race voting hexagon_grid modular_board area-impulse variable_phase_order king_of_the_hill grid_movement dice_rolling trading variable_set-up   \n",
       "\n",
       "                                         game designer  \\\n",
       "0               matt_tolman gavan_brown martin_wallace   \n",
       "1                              matt_leacock rob_daviau   \n",
       "2                                       isaac_childres   \n",
       "3                                        mathias_wigge   \n",
       "4  christian_t._petersen corey_konieczka dane_beltrami   \n",
       "\n",
       "                                                                                                                                                                                                                                                                                             publisher  \\\n",
       "0                   funforge boardm_factory lanlalen gém_klub_kft. cmon_global_limited 盒拍工作室_hepa_studio rebel_sp._z_o.o. ghenos_games lord_of_boards arclight_games conclave_editora dexker_games maldito_games tlama_games phalanx giant_roc board_game_rookie white_goblin_games roxley crowd_games   \n",
       "1                                                                                                                                        z-man_games lifestyle_boardgames_ltd hobby_japan devir korea_boardgames asterion_press gém_klub_kft. jolly_thinkers ігромаг mindok filosofia_éditions lacerta   \n",
       "2                                                                                                                                         games_warehouse mybg_co.,_ltd. arclight_games albi_polska feuerland_spiele korea_boardgames galápagos_jogos gém_klub_kft. hobby_world cephalofair_games albi   \n",
       "3  capstone_games テンデイズゲームズ(tendaysgames) gém_klub_kft. mindok grok_games cmon_global_limited mipl game_harbor korea_boardgames tower_tactic_games cranio_creations ludofy_creative maldito_games super_meeple white_goblin_games feuerland_spiele portal_games regatul_jocurilor igames lautapelit.fi   \n",
       "4                                                                                                                sternenschimmermeer galakta arclight_games geekach_games edge_entertainment asterion_press galápagos_jogos playfun_games hobby_world adc_blackfire_entertainment fantasy_flight_games   \n",
       "\n",
       "                                                                                                                                                                                                                                                                                                                                                                                                                                                                                                                                                                                                                                                                                         bag of words  \n",
       "0                                                                                                                                                 economic post-napoleonic trains age_of_reason transportation industry_/_manufacturing loans network_and_route_building market hand_management tech_trees_/_tech_tracks turn_order:_stat-based variable_set-up tags income matt_tolman gavan_brown martin_wallace funforge boardm_factory lanlalen gém_klub_kft. cmon_global_limited 盒拍工作室_hepa_studio rebel_sp._z_o.o. ghenos_games lord_of_boards arclight_games conclave_editora dexker_games maldito_games tlama_games phalanx giant_roc board_game_rookie white_goblin_games roxley crowd_games  \n",
       "1                                                                                                                                                                                                                                                                                                                medical environmental variable_player_powers cooperative_game hand_management action_points scenario_/_mission_/_campaign_game legacy_game point_to_point_movement set_collection trading tags matt_leacock rob_daviau z-man_games lifestyle_boardgames_ltd hobby_japan devir korea_boardgames asterion_press gém_klub_kft. jolly_thinkers ігромаг mindok filosofia_éditions lacerta  \n",
       "2  fighting miniatures adventure fantasy exploration communication_limits variable_player_powers cooperative_game simultaneous_action_selection critical_hits_and_failures legacy_game tags campaign_/_battle_card_driven deck_construction solo_/_solitaire_game action_queue narrative_choice_/_paragraph card_play_conflict_resolution line_of_sight action_retrieval hexagon_grid role_playing hand_management scenario_/_mission_/_campaign_game multi-use_cards modular_board grid_movement once-per-game_abilities isaac_childres games_warehouse mybg_co.,_ltd. arclight_games albi_polska feuerland_spiele korea_boardgames galápagos_jogos gém_klub_kft. hobby_world cephalofair_games albi  \n",
       "3                                                                                                            economic animals environmental open_drafting variable_player_powers variable_set-up hand_management increase_value_of_unchosen_resources grid_coverage end_game_bonuses solo_/_solitaire_game race hexagon_grid tile_placement set_collection action_queue tags income mathias_wigge capstone_games テンデイズゲームズ(tendaysgames) gém_klub_kft. mindok grok_games cmon_global_limited mipl game_harbor korea_boardgames tower_tactic_games cranio_creations ludofy_creative maldito_games super_meeple white_goblin_games feuerland_spiele portal_games regatul_jocurilor igames lautapelit.fi  \n",
       "4                                                                                economic space_exploration political wargame negotiation civilization exploration science_fiction movement_points variable_player_powers action_drafting follow increase_value_of_unchosen_resources tech_trees_/_tech_tracks race voting hexagon_grid modular_board area-impulse variable_phase_order king_of_the_hill grid_movement dice_rolling trading variable_set-up christian_t._petersen corey_konieczka dane_beltrami sternenschimmermeer galakta arclight_games geekach_games edge_entertainment asterion_press galápagos_jogos playfun_games hobby_world adc_blackfire_entertainment fantasy_flight_games  "
      ]
     },
     "execution_count": 21,
     "metadata": {},
     "output_type": "execute_result"
    }
   ],
   "source": [
    "# Create bag of words for each game by combining all the unique labels of mechanism, game designer and publisher to a new column 'bag of words':\n",
    "fe_df['bag of words'] = fe_df[['category','mechanism','game designer','publisher']].apply(\n",
    "    lambda x: ' '.join(x.dropna().astype(str)),\n",
    "    axis=1\n",
    ")\n",
    "\n",
    "# Apply the function, to replace // spearator with whitespace, to the entire DataFrame using applymap\n",
    "fe_df = fe_df.map(lambda x: remove_double_slashes(x) if isinstance(x, str) else x)\n",
    "fe_df['bag of words'] = fe_df['bag of words'].str.replace(' // ', ' ')\n",
    "\n",
    "# Checking new column 'data'\n",
    "fe_df[['id','name','category','mechanism','game designer','publisher','bag of words']].head(5)"
   ]
  },
  {
   "cell_type": "markdown",
   "id": "f4eda928-ce8d-4c87-a54b-9b25482c2680",
   "metadata": {},
   "source": [
    "### Saving feature engineered dataframe"
   ]
  },
  {
   "cell_type": "code",
   "execution_count": 23,
   "id": "ef4ffce8-24ab-45e9-9b7b-3e587624529a",
   "metadata": {
    "tags": []
   },
   "outputs": [],
   "source": [
    "# Saving fe_df data to csv\n",
    "fe_df.to_csv('games_fe.csv', index=False) "
   ]
  }
 ],
 "metadata": {
  "kernelspec": {
   "display_name": "Python 3 (ipykernel)",
   "language": "python",
   "name": "python3"
  },
  "language_info": {
   "codemirror_mode": {
    "name": "ipython",
    "version": 3
   },
   "file_extension": ".py",
   "mimetype": "text/x-python",
   "name": "python",
   "nbconvert_exporter": "python",
   "pygments_lexer": "ipython3",
   "version": "3.11.7"
  }
 },
 "nbformat": 4,
 "nbformat_minor": 5
}
